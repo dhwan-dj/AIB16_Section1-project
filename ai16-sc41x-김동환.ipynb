{
  "cells": [
    {
      "cell_type": "markdown",
      "metadata": {
        "id": "view-in-github",
        "colab_type": "text"
      },
      "source": [
        "<a href=\"https://colab.research.google.com/github/dhwan-dj/AIB16_Section1-project/blob/main/ai16-sc41x-%EA%B9%80%EB%8F%99%ED%99%98.ipynb\" target=\"_parent\"><img src=\"https://colab.research.google.com/assets/colab-badge.svg\" alt=\"Open In Colab\"/></a>"
      ]
    },
    {
      "cell_type": "markdown",
      "metadata": {
        "id": "dVNDxiWkw5y7"
      },
      "source": [
        "<img src='https://user-images.githubusercontent.com/6457691/90080969-0f758d00-dd47-11ea-8191-fa12fd2054a7.png' width = '200' align = 'right'>\n",
        "\n",
        "## AI SC41x\n",
        "\n",
        "---\n",
        "# Sprint Challenge - 신경망(Neural Network) 기본기 다지기\n",
        "\n",
        "Table of Problems\n",
        "\n",
        "1. 신경망 정의하기 \n",
        "2. 퍼셉트론 정의\n",
        "    - 퍼셉트론(Perceptron)\n",
        "    - 다층 퍼셉트론(Multilayer Perceptron)\n",
        "    - 분석과 비교\n",
        "4. Keras 사용하기"
      ]
    },
    {
      "cell_type": "markdown",
      "metadata": {
        "id": "O9qf0cRbw5y8"
      },
      "source": [
        "<a id=\"Q1\"></a>\n",
        "## 1. 신경망 용어 정의\n",
        "### 1.1 아래에 주어진 신경망 개념에 사용 되는 용어들을 자신만의 언어로 정의해보세요\n",
        "꼭 \"자신의 언어\"로 써보시고, 정리해보고, 요약해보세요 :)"
      ]
    },
    {
      "cell_type": "markdown",
      "metadata": {
        "id": "JPmV58XRFv-5"
      },
      "source": [
        "- **Neuron : 입력신호를 처리해 출력신호를 만들어내는 인공신경망의 기본단위. 노드라고도 하며 노드간의 연결에 대한 가중치와 노드 자체가 가지는 편향을 조정하며 변화하는 특성을 가진다.**\n",
        "- **Input Layer : 입력신호를 받는 인공신경망의 층. 입력신호의 특성 수 만큼의 노드(뉴런)수를 가진다.**\n",
        "- **Hidden Layer : 입력층과 출력층 사이의 단계에서 신호(데이터)를 처리하는 층. 이 층이 2개 이상일 때 보통 딥러닝 모델이라고 한다.**\n",
        "- **Output Layer : 출력신호를 발생시키는 출력층. 출력신호의 특성에 따라 다른 노드수와 활성함수를 가진다.**\n",
        "- **Activation Function : 인공신경망의 신호전달 과정에서 각 층의 입력신호에 따라 출력신호를 어떻게 발생시킬지를 결정하는 비선형 함수. 학습시키고자 하는 인공신경망의 기능에 따라 다른 활성함수를 사용한다.**\n",
        "- **Back Propagation : 인공신경망은 입력층에서 출력층까지 신호가 전달되는 순전파의 예측값과 정답을 비교하는 손실함수를 최소화시키는 방향으로 학습한다. 이때 반대로 출력층에서 입력층까지의 신경망 구성요소들을 손실함수의 미분값을 이용해 갱신하는 과정을 역전파라고 한다.**"
      ]
    },
    {
      "cell_type": "markdown",
      "metadata": {
        "id": "YdcS-Jx2w5y8"
      },
      "source": [
        "### 1.2 역전파 설명해보기\n",
        "이번에는 역전파 (Back Propagation)를 조금 더 디테일하게 설명해보겠습니다. \n",
        "<br> <b>초등학생</b>에게 설명한다는 생각으로 단어들을 선정해 주세요. <i>외부 자료나 이미지를 설명에 활용하셔도 좋습니다</i>."
      ]
    },
    {
      "cell_type": "code",
      "execution_count": null,
      "metadata": {
        "id": "iBZA8EQuw5y8"
      },
      "outputs": [],
      "source": [
        "#@markdown - 갈림길(노드)이 많은 미로(인공신경망)에서 강아지(데이터)를 목표지점(타겟 라벨)까지 보내는 대회가 있다. 강아지는 갈림길에서 간식(가중치)이 많은 쪽으로 움직인다. \n",
        "#@markdown - 강아지는 첫번째 시도(순전파)로 목표지점까지 오지 못할 것이다. 목표지점(정답)과 도착지점(예측값)의 차이가 점점 줄어들도록 출발점까지 거꾸로 돌아가며 정답쪽으로 가는 갈림길에 간식을 놓는다. 그리고 다시 강아지를 출발시켜 본다.\n",
        "#@markdown - 강아지가 또 잘못된 길로 가면 제대로 된 곳으로 갈 수 있도록 간식을 갈림길에 놓는다. 이렇게 강아지가 제대로 된 목표지점으로 도착할 수 있도록 간식(가중치)을 갈림길에 놓는 작업이 역전파이다.\n"
      ]
    },
    {
      "cell_type": "markdown",
      "metadata": {
        "id": "W7ZSjf9Uw5y8"
      },
      "source": [
        "### 1.3 퍼셉트론 정의해보기\n",
        "신경망 수업 첫날에 들었었던 퍼셉트론의 간단한 개념으로 예측하는 과정을 설명해보세요. <br> <b>입력</b>에서 <b>출력</b>으로 어떻게 변경되는 지 단계별로 설명해보세요."
      ]
    },
    {
      "cell_type": "code",
      "execution_count": null,
      "metadata": {
        "id": "yaJoCMf1w5y8"
      },
      "outputs": [],
      "source": [
        "#@markdown - 퍼셉트론은 다수의 입력신호를 받아 하나의 출력신호를 발생시키는 신호처리구조이다. 퍼센트론은 가중치-편향 연산과 활성화 함수의 두 부분으로 나뉜다.\n",
        "#@markdown - 가중치-편향 연산과정에서는 다수의 입력 신호에 대응되는 가중치를 곱해 모두 합하게 된다.(다중 입력->단일 출력)\n",
        "#@markdown - 활성화 함수는 입력값(가중합)을 받아 출력값을 발생시키는 함수로, 연속적인 다중합을 특정 출력값으로 수렴시키는 역할을 한다."
      ]
    },
    {
      "cell_type": "markdown",
      "metadata": {
        "id": "1A2h2zpCw5y8"
      },
      "source": [
        "<a id=\"Q2\"></a>\n",
        "## 2. 단순 퍼셉트론\n",
        "\n",
        "이번에는 TensorFlow, keras를 사용하여 두 개의 신경망을 직접 구축한 뒤,\n",
        "<br> 아래 임의로 제공 된 $X, y$를 이용하여 두 모델에 적용한 뒤 결과를 비교해보세요. \n",
        "먼저 사용할 데이터는 다음과 같습니다."
      ]
    },
    {
      "cell_type": "code",
      "execution_count": 1,
      "metadata": {
        "colab": {
          "base_uri": "https://localhost:8080/",
          "height": 283
        },
        "id": "TWdXFK9Yw5y8",
        "outputId": "9b1004ee-a723-4d44-a88d-3d30446cb78b"
      },
      "outputs": [
        {
          "output_type": "execute_result",
          "data": {
            "text/plain": [
              "<matplotlib.collections.PathCollection at 0x7feb343236d0>"
            ]
          },
          "metadata": {},
          "execution_count": 1
        },
        {
          "output_type": "display_data",
          "data": {
            "text/plain": [
              "<Figure size 432x288 with 1 Axes>"
            ],
            "image/png": "[encoded data removed]"
          },
          "metadata": {
            "needs_background": "light"
          }
        }
      ],
      "source": [
        "import numpy as np\n",
        "import matplotlib.pyplot as plt\n",
        "\n",
        "xx, yy = np.meshgrid(np.linspace(-3, 3, 50),\n",
        "                     np.linspace(-3, 3, 50))\n",
        "rng = np.random.RandomState(0)\n",
        "\n",
        "\n",
        "\"model1과 model2를 구축할 때 아래의 X & y를 사용하세요\"\n",
        "X = rng.randn(300, 2)\n",
        "y = np.array(np.logical_xor(X[:, 0] > 0, X[:, 1] > 0), \n",
        "             dtype=int)\n",
        "\n",
        "plt.scatter(X[:,0], X[:,1], s=y)\n"
      ]
    },
    {
      "cell_type": "markdown",
      "metadata": {
        "id": "xjr4UoQXw5y8"
      },
      "source": [
        "### 단순 퍼셉트론 구현\n",
        "Keras로 <b>sigmoid activation function</b>을 포함한 dense layer 1개가 있는</b> `model1`을 만들어 학습시키고 `h1`에 저장하세요."
      ]
    },
    {
      "cell_type": "code",
      "source": [
        "from sklearn.model_selection import KFold, StratifiedKFold\n",
        "#from tensorflow.keras.preprocessing.image import ImageDataGenerator\n",
        "from tensorflow.keras.models import Sequential\n",
        "from tensorflow.keras.layers import Dense\n",
        "\n",
        "import numpy as np\n",
        "import pandas as pd\n",
        "import tensorflow as tf\n",
        "import os"
      ],
      "metadata": {
        "id": "PKXf8AA9XkqC"
      },
      "execution_count": 4,
      "outputs": []
    },
    {
      "cell_type": "code",
      "execution_count": 8,
      "metadata": {
        "colab": {
          "base_uri": "https://localhost:8080/"
        },
        "id": "vKZXIC1ew5y8",
        "outputId": "34ea212e-4892-49cb-dda6-dc3befca665c"
      },
      "outputs": [
        {
          "output_type": "stream",
          "name": "stdout",
          "text": [
            "Epoch 1/30\n",
            "10/10 [==============================] - 1s 6ms/step - loss: 0.8608 - accuracy: 0.4600\n",
            "Epoch 2/30\n",
            "10/10 [==============================] - 0s 4ms/step - loss: 0.8540 - accuracy: 0.4600\n",
            "Epoch 3/30\n",
            "10/10 [==============================] - 0s 4ms/step - loss: 0.8477 - accuracy: 0.4600\n",
            "Epoch 4/30\n",
            "10/10 [==============================] - 0s 8ms/step - loss: 0.8414 - accuracy: 0.4600\n",
            "Epoch 5/30\n",
            "10/10 [==============================] - 0s 10ms/step - loss: 0.8350 - accuracy: 0.4600\n",
            "Epoch 6/30\n",
            "10/10 [==============================] - 0s 5ms/step - loss: 0.8290 - accuracy: 0.4600\n",
            "Epoch 7/30\n",
            "10/10 [==============================] - 0s 8ms/step - loss: 0.8232 - accuracy: 0.4600\n",
            "Epoch 8/30\n",
            "10/10 [==============================] - 0s 7ms/step - loss: 0.8174 - accuracy: 0.4600\n",
            "Epoch 9/30\n",
            "10/10 [==============================] - 0s 3ms/step - loss: 0.8120 - accuracy: 0.4600\n",
            "Epoch 10/30\n",
            "10/10 [==============================] - 0s 6ms/step - loss: 0.8070 - accuracy: 0.4600\n",
            "Epoch 11/30\n",
            "10/10 [==============================] - 0s 5ms/step - loss: 0.8020 - accuracy: 0.4633\n",
            "Epoch 12/30\n",
            "10/10 [==============================] - 0s 7ms/step - loss: 0.7970 - accuracy: 0.4633\n",
            "Epoch 13/30\n",
            "10/10 [==============================] - 0s 2ms/step - loss: 0.7919 - accuracy: 0.4633\n",
            "Epoch 14/30\n",
            "10/10 [==============================] - 0s 2ms/step - loss: 0.7874 - accuracy: 0.4633\n",
            "Epoch 15/30\n",
            "10/10 [==============================] - 0s 3ms/step - loss: 0.7833 - accuracy: 0.4733\n",
            "Epoch 16/30\n",
            "10/10 [==============================] - 0s 2ms/step - loss: 0.7793 - accuracy: 0.4733\n",
            "Epoch 17/30\n",
            "10/10 [==============================] - 0s 2ms/step - loss: 0.7752 - accuracy: 0.4767\n",
            "Epoch 18/30\n",
            "10/10 [==============================] - 0s 2ms/step - loss: 0.7707 - accuracy: 0.4767\n",
            "Epoch 19/30\n",
            "10/10 [==============================] - 0s 2ms/step - loss: 0.7666 - accuracy: 0.4767\n",
            "Epoch 20/30\n",
            "10/10 [==============================] - 0s 2ms/step - loss: 0.7630 - accuracy: 0.4800\n",
            "Epoch 21/30\n",
            "10/10 [==============================] - 0s 2ms/step - loss: 0.7595 - accuracy: 0.4767\n",
            "Epoch 22/30\n",
            "10/10 [==============================] - 0s 2ms/step - loss: 0.7564 - accuracy: 0.4800\n",
            "Epoch 23/30\n",
            "10/10 [==============================] - 0s 2ms/step - loss: 0.7532 - accuracy: 0.4800\n",
            "Epoch 24/30\n",
            "10/10 [==============================] - 0s 2ms/step - loss: 0.7502 - accuracy: 0.4800\n",
            "Epoch 25/30\n",
            "10/10 [==============================] - 0s 3ms/step - loss: 0.7470 - accuracy: 0.4800\n",
            "Epoch 26/30\n",
            "10/10 [==============================] - 0s 2ms/step - loss: 0.7442 - accuracy: 0.4800\n",
            "Epoch 27/30\n",
            "10/10 [==============================] - 0s 2ms/step - loss: 0.7414 - accuracy: 0.4800\n",
            "Epoch 28/30\n",
            "10/10 [==============================] - 0s 2ms/step - loss: 0.7388 - accuracy: 0.4800\n",
            "Epoch 29/30\n",
            "10/10 [==============================] - 0s 2ms/step - loss: 0.7363 - accuracy: 0.4833\n",
            "Epoch 30/30\n",
            "10/10 [==============================] - 0s 2ms/step - loss: 0.7342 - accuracy: 0.4867\n"
          ]
        }
      ],
      "source": [
        "model1 = tf.keras.models.Sequential()\n",
        "model1.add(Dense(1, activation='sigmoid'))\n",
        "\n",
        "model1.compile(optimizer='sgd',\n",
        "              loss='binary_crossentropy',\n",
        "              metrics=['accuracy'])\n",
        "\n",
        "h1 = model1.fit(X, y, epochs=30)"
      ]
    },
    {
      "cell_type": "markdown",
      "metadata": {
        "id": "0Ugkziwew5y8"
      },
      "source": [
        "\n",
        "### Multi-Layer Perceptron (MLP)\n",
        "이번에는 여러층의 레이어들을 쌓은 MLP 모델을 만들어보겠습니다. 아래는 간략한 가이드입니다 :\n",
        "- 2개의 은닉층 (출력 수를 맞추는 것까지 3개의 Dense를 사용할 것은 추천)\n",
        "- 노드의 개수는 8-32개 내에서 변경해서 사용해보세요.\n",
        "- Activation function과 optimizer는 이번 주에 배운 것들 중에서 자유롭게 골라보세요.\n",
        "- 아래 만들어진 Callback function을 모델에 통합해서 사용하세요\n",
        "\n",
        "MLP로 만들어진 `model2` 를 만들어 학습하고 `h2`에 저장하세요."
      ]
    },
    {
      "cell_type": "code",
      "execution_count": 9,
      "metadata": {
        "id": "6BoIn7iBw5y8"
      },
      "outputs": [],
      "source": [
        "import tensorflow as tf\n",
        "\n",
        "class myCallback(tf.keras.callbacks.Callback): \n",
        "    def on_epoch_end(self, epoch, logs={}): \n",
        "        if(logs.get('accuracy') > .90):   \n",
        "            self.model.stop_training = True"
      ]
    },
    {
      "cell_type": "code",
      "source": [
        "!pip install -U keras-tuner\n",
        "import kerastuner as kt"
      ],
      "metadata": {
        "colab": {
          "base_uri": "https://localhost:8080/"
        },
        "id": "ly9gxOQScOQQ",
        "outputId": "f2883aa4-f29e-48a6-be5d-ca81aacf9302"
      },
      "execution_count": 11,
      "outputs": [
        {
          "output_type": "stream",
          "name": "stdout",
          "text": [
            "Looking in indexes: https://pypi.org/simple, https://us-python.pkg.dev/colab-wheels/public/simple/\n",
            "Collecting keras-tuner\n",
            "  Downloading keras_tuner-1.1.3-py3-none-any.whl (135 kB)\n",
            "\u001b[2K     \u001b[90m━━━━━━━━━━━━━━━━━━━━━━━━━━━━━━━━━━━━━━━\u001b[0m \u001b[32m135.7/135.7 KB\u001b[0m \u001b[31m4.0 MB/s\u001b[0m eta \u001b[36m0:00:00\u001b[0m\n",
            "\u001b[?25hRequirement already satisfied: packaging in /usr/local/lib/python3.8/dist-packages (from keras-tuner) (21.3)\n",
            "Requirement already satisfied: numpy in /usr/local/lib/python3.8/dist-packages (from keras-tuner) (1.21.6)\n",
            "Requirement already satisfied: tensorboard in /usr/local/lib/python3.8/dist-packages (from keras-tuner) (2.9.1)\n",
            "Requirement already satisfied: ipython in /usr/local/lib/python3.8/dist-packages (from keras-tuner) (7.9.0)\n",
            "Requirement already satisfied: requests in /usr/local/lib/python3.8/dist-packages (from keras-tuner) (2.25.1)\n",
            "Collecting kt-legacy\n",
            "  Downloading kt_legacy-1.0.4-py3-none-any.whl (9.6 kB)\n",
            "Requirement already satisfied: pexpect in /usr/local/lib/python3.8/dist-packages (from ipython->keras-tuner) (4.8.0)\n",
            "Requirement already satisfied: decorator in /usr/local/lib/python3.8/dist-packages (from ipython->keras-tuner) (4.4.2)\n",
            "Requirement already satisfied: traitlets>=4.2 in /usr/local/lib/python3.8/dist-packages (from ipython->keras-tuner) (5.7.1)\n",
            "Collecting jedi>=0.10\n",
            "  Downloading jedi-0.18.2-py2.py3-none-any.whl (1.6 MB)\n",
            "\u001b[2K     \u001b[90m━━━━━━━━━━━━━━━━━━━━━━━━━━━━━━━━━━━━━━━━\u001b[0m \u001b[32m1.6/1.6 MB\u001b[0m \u001b[31m31.6 MB/s\u001b[0m eta \u001b[36m0:00:00\u001b[0m\n",
            "\u001b[?25hRequirement already satisfied: setuptools>=18.5 in /usr/local/lib/python3.8/dist-packages (from ipython->keras-tuner) (57.4.0)\n",
            "Requirement already satisfied: backcall in /usr/local/lib/python3.8/dist-packages (from ipython->keras-tuner) (0.2.0)\n",
            "Requirement already satisfied: prompt-toolkit<2.1.0,>=2.0.0 in /usr/local/lib/python3.8/dist-packages (from ipython->keras-tuner) (2.0.10)\n",
            "Requirement already satisfied: pygments in /usr/local/lib/python3.8/dist-packages (from ipython->keras-tuner) (2.6.1)\n",
            "Requirement already satisfied: pickleshare in /usr/local/lib/python3.8/dist-packages (from ipython->keras-tuner) (0.7.5)\n",
            "Requirement already satisfied: pyparsing!=3.0.5,>=2.0.2 in /usr/local/lib/python3.8/dist-packages (from packaging->keras-tuner) (3.0.9)\n",
            "Requirement already satisfied: idna<3,>=2.5 in /usr/local/lib/python3.8/dist-packages (from requests->keras-tuner) (2.10)\n",
            "Requirement already satisfied: urllib3<1.27,>=1.21.1 in /usr/local/lib/python3.8/dist-packages (from requests->keras-tuner) (1.24.3)\n",
            "Requirement already satisfied: certifi>=2017.4.17 in /usr/local/lib/python3.8/dist-packages (from requests->keras-tuner) (2022.12.7)\n",
            "Requirement already satisfied: chardet<5,>=3.0.2 in /usr/local/lib/python3.8/dist-packages (from requests->keras-tuner) (4.0.0)\n",
            "Requirement already satisfied: absl-py>=0.4 in /usr/local/lib/python3.8/dist-packages (from tensorboard->keras-tuner) (1.3.0)\n",
            "Requirement already satisfied: tensorboard-plugin-wit>=1.6.0 in /usr/local/lib/python3.8/dist-packages (from tensorboard->keras-tuner) (1.8.1)\n",
            "Requirement already satisfied: google-auth-oauthlib<0.5,>=0.4.1 in /usr/local/lib/python3.8/dist-packages (from tensorboard->keras-tuner) (0.4.6)\n",
            "Requirement already satisfied: werkzeug>=1.0.1 in /usr/local/lib/python3.8/dist-packages (from tensorboard->keras-tuner) (1.0.1)\n",
            "Requirement already satisfied: markdown>=2.6.8 in /usr/local/lib/python3.8/dist-packages (from tensorboard->keras-tuner) (3.4.1)\n",
            "Requirement already satisfied: tensorboard-data-server<0.7.0,>=0.6.0 in /usr/local/lib/python3.8/dist-packages (from tensorboard->keras-tuner) (0.6.1)\n",
            "Requirement already satisfied: wheel>=0.26 in /usr/local/lib/python3.8/dist-packages (from tensorboard->keras-tuner) (0.38.4)\n",
            "Requirement already satisfied: grpcio>=1.24.3 in /usr/local/lib/python3.8/dist-packages (from tensorboard->keras-tuner) (1.51.1)\n",
            "Requirement already satisfied: protobuf<3.20,>=3.9.2 in /usr/local/lib/python3.8/dist-packages (from tensorboard->keras-tuner) (3.19.6)\n",
            "Requirement already satisfied: google-auth<3,>=1.6.3 in /usr/local/lib/python3.8/dist-packages (from tensorboard->keras-tuner) (2.15.0)\n",
            "Requirement already satisfied: six>=1.9.0 in /usr/local/lib/python3.8/dist-packages (from google-auth<3,>=1.6.3->tensorboard->keras-tuner) (1.15.0)\n",
            "Requirement already satisfied: rsa<5,>=3.1.4 in /usr/local/lib/python3.8/dist-packages (from google-auth<3,>=1.6.3->tensorboard->keras-tuner) (4.9)\n",
            "Requirement already satisfied: cachetools<6.0,>=2.0.0 in /usr/local/lib/python3.8/dist-packages (from google-auth<3,>=1.6.3->tensorboard->keras-tuner) (5.2.0)\n",
            "Requirement already satisfied: pyasn1-modules>=0.2.1 in /usr/local/lib/python3.8/dist-packages (from google-auth<3,>=1.6.3->tensorboard->keras-tuner) (0.2.8)\n",
            "Requirement already satisfied: requests-oauthlib>=0.7.0 in /usr/local/lib/python3.8/dist-packages (from google-auth-oauthlib<0.5,>=0.4.1->tensorboard->keras-tuner) (1.3.1)\n",
            "Requirement already satisfied: parso<0.9.0,>=0.8.0 in /usr/local/lib/python3.8/dist-packages (from jedi>=0.10->ipython->keras-tuner) (0.8.3)\n",
            "Requirement already satisfied: importlib-metadata>=4.4 in /usr/local/lib/python3.8/dist-packages (from markdown>=2.6.8->tensorboard->keras-tuner) (6.0.0)\n",
            "Requirement already satisfied: wcwidth in /usr/local/lib/python3.8/dist-packages (from prompt-toolkit<2.1.0,>=2.0.0->ipython->keras-tuner) (0.2.5)\n",
            "Requirement already satisfied: ptyprocess>=0.5 in /usr/local/lib/python3.8/dist-packages (from pexpect->ipython->keras-tuner) (0.7.0)\n",
            "Requirement already satisfied: zipp>=0.5 in /usr/local/lib/python3.8/dist-packages (from importlib-metadata>=4.4->markdown>=2.6.8->tensorboard->keras-tuner) (3.11.0)\n",
            "Requirement already satisfied: pyasn1<0.5.0,>=0.4.6 in /usr/local/lib/python3.8/dist-packages (from pyasn1-modules>=0.2.1->google-auth<3,>=1.6.3->tensorboard->keras-tuner) (0.4.8)\n",
            "Requirement already satisfied: oauthlib>=3.0.0 in /usr/local/lib/python3.8/dist-packages (from requests-oauthlib>=0.7.0->google-auth-oauthlib<0.5,>=0.4.1->tensorboard->keras-tuner) (3.2.2)\n",
            "Installing collected packages: kt-legacy, jedi, keras-tuner\n",
            "Successfully installed jedi-0.18.2 keras-tuner-1.1.3 kt-legacy-1.0.4\n"
          ]
        },
        {
          "output_type": "stream",
          "name": "stderr",
          "text": [
            "<ipython-input-11-5f8c033ce5cd>:2: DeprecationWarning: `import kerastuner` is deprecated, please use `import keras_tuner`.\n",
            "  import kerastuner as kt\n"
          ]
        }
      ]
    },
    {
      "cell_type": "code",
      "execution_count": 29,
      "metadata": {
        "id": "B63dciqEw5y8"
      },
      "outputs": [],
      "source": [
        "def model_builder(hp):\n",
        "  model = Sequential()\n",
        "  \n",
        "  hp_units = hp.Int('units', min_value = 8, max_value = 32, step = 2)\n",
        "  model.add(Dense(units = hp_units, activation = 'relu'))\n",
        "  model.add(Dense(units = hp_units, activation = 'relu'))\n",
        "  model.add(Dense(1, activation='relu'))\n",
        "\n",
        "  #hp_learning_rate = hp.Choice('learning_rate', values = [1e-2, 1e-3, 1e-4]) \n",
        "  \n",
        "  model.compile(optimizer='Adam',\n",
        "              loss='binary_crossentropy',\n",
        "              metrics=['accuracy'])\n",
        "  \n",
        "  return model"
      ]
    },
    {
      "cell_type": "code",
      "source": [
        "# 튜너를 인스턴스화하고 하이퍼 튜닝을 수행\n",
        "\n",
        "tuner = kt.Hyperband(model_builder,\n",
        "                     objective = 'accuracy', \n",
        "                     max_epochs = 30, \n",
        "                     factor = 3,\n",
        "                     directory = 'my_dir',\n",
        "                     project_name = 'intro_to_kt')"
      ],
      "metadata": {
        "id": "lCcb1Ex4catF"
      },
      "execution_count": 24,
      "outputs": []
    },
    {
      "cell_type": "code",
      "source": [
        "tuner.search(X, y, epochs = 30, batch_size=50, callbacks = [myCallback()])\n",
        "\n",
        "best_hps = tuner.get_best_hyperparameters(num_trials = 1)[0]\n",
        "\n",
        "print(f\"\"\"\n",
        "최적화된 Dense 노드 수 : {best_hps.get('units')} \n",
        "\"\"\")"
      ],
      "metadata": {
        "colab": {
          "base_uri": "https://localhost:8080/"
        },
        "id": "ASu4BQNAc14F",
        "outputId": "d7f9c0c8-f046-4f3a-9246-e61b7a82aafb"
      },
      "execution_count": 30,
      "outputs": [
        {
          "output_type": "stream",
          "name": "stdout",
          "text": [
            "\n",
            "최적화된 Dense 노드 수 : 16 \n",
            "\n"
          ]
        }
      ]
    },
    {
      "cell_type": "code",
      "source": [
        "model2 = tf.keras.models.Sequential()\n",
        "\n",
        "model2.add(Dense(units = 16, activation = 'relu'))\n",
        "model2.add(Dense(units = 16, activation = 'relu'))\n",
        "model2.add(Dense(1, activation='relu'))\n",
        "\n",
        "model2.compile(optimizer='Adam',\n",
        "              loss='binary_crossentropy',\n",
        "              metrics=['accuracy'])\n",
        "\n",
        "h2 = model2.fit(X, y, epochs=30)"
      ],
      "metadata": {
        "colab": {
          "base_uri": "https://localhost:8080/"
        },
        "id": "UmjvVg9XdNG5",
        "outputId": "0a43a704-4074-4119-d6ab-bbe80c9a7c15"
      },
      "execution_count": 31,
      "outputs": [
        {
          "output_type": "stream",
          "name": "stdout",
          "text": [
            "Epoch 1/30\n",
            "10/10 [==============================] - 2s 6ms/step - loss: 0.9133 - accuracy: 0.5800\n",
            "Epoch 2/30\n",
            "10/10 [==============================] - 0s 5ms/step - loss: 0.6896 - accuracy: 0.6267\n",
            "Epoch 3/30\n",
            "10/10 [==============================] - 0s 2ms/step - loss: 0.5958 - accuracy: 0.6733\n",
            "Epoch 4/30\n",
            "10/10 [==============================] - 0s 2ms/step - loss: 0.5313 - accuracy: 0.7067\n",
            "Epoch 5/30\n",
            "10/10 [==============================] - 0s 2ms/step - loss: 0.4787 - accuracy: 0.7367\n",
            "Epoch 6/30\n",
            "10/10 [==============================] - 0s 2ms/step - loss: 0.4395 - accuracy: 0.7633\n",
            "Epoch 7/30\n",
            "10/10 [==============================] - 0s 2ms/step - loss: 0.4079 - accuracy: 0.7933\n",
            "Epoch 8/30\n",
            "10/10 [==============================] - 0s 2ms/step - loss: 0.3799 - accuracy: 0.8000\n",
            "Epoch 9/30\n",
            "10/10 [==============================] - 0s 2ms/step - loss: 0.3575 - accuracy: 0.8100\n",
            "Epoch 10/30\n",
            "10/10 [==============================] - 0s 4ms/step - loss: 0.3375 - accuracy: 0.8233\n",
            "Epoch 11/30\n",
            "10/10 [==============================] - 0s 3ms/step - loss: 0.3183 - accuracy: 0.8267\n",
            "Epoch 12/30\n",
            "10/10 [==============================] - 0s 3ms/step - loss: 0.3016 - accuracy: 0.8400\n",
            "Epoch 13/30\n",
            "10/10 [==============================] - 0s 2ms/step - loss: 0.2870 - accuracy: 0.8500\n",
            "Epoch 14/30\n",
            "10/10 [==============================] - 0s 2ms/step - loss: 0.2715 - accuracy: 0.8633\n",
            "Epoch 15/30\n",
            "10/10 [==============================] - 0s 3ms/step - loss: 0.2570 - accuracy: 0.8733\n",
            "Epoch 16/30\n",
            "10/10 [==============================] - 0s 2ms/step - loss: 0.2434 - accuracy: 0.8867\n",
            "Epoch 17/30\n",
            "10/10 [==============================] - 0s 2ms/step - loss: 0.2313 - accuracy: 0.8967\n",
            "Epoch 18/30\n",
            "10/10 [==============================] - 0s 2ms/step - loss: 0.2190 - accuracy: 0.9100\n",
            "Epoch 19/30\n",
            "10/10 [==============================] - 0s 2ms/step - loss: 0.2082 - accuracy: 0.9167\n",
            "Epoch 20/30\n",
            "10/10 [==============================] - 0s 2ms/step - loss: 0.1980 - accuracy: 0.9367\n",
            "Epoch 21/30\n",
            "10/10 [==============================] - 0s 3ms/step - loss: 0.1884 - accuracy: 0.9467\n",
            "Epoch 22/30\n",
            "10/10 [==============================] - 0s 2ms/step - loss: 0.1796 - accuracy: 0.9467\n",
            "Epoch 23/30\n",
            "10/10 [==============================] - 0s 2ms/step - loss: 0.1719 - accuracy: 0.9567\n",
            "Epoch 24/30\n",
            "10/10 [==============================] - 0s 2ms/step - loss: 0.1630 - accuracy: 0.9500\n",
            "Epoch 25/30\n",
            "10/10 [==============================] - 0s 3ms/step - loss: 0.1559 - accuracy: 0.9533\n",
            "Epoch 26/30\n",
            "10/10 [==============================] - 0s 2ms/step - loss: 0.1487 - accuracy: 0.9533\n",
            "Epoch 27/30\n",
            "10/10 [==============================] - 0s 2ms/step - loss: 0.1424 - accuracy: 0.9567\n",
            "Epoch 28/30\n",
            "10/10 [==============================] - 0s 2ms/step - loss: 0.1355 - accuracy: 0.9567\n",
            "Epoch 29/30\n",
            "10/10 [==============================] - 0s 2ms/step - loss: 0.1296 - accuracy: 0.9600\n",
            "Epoch 30/30\n",
            "10/10 [==============================] - 0s 2ms/step - loss: 0.1234 - accuracy: 0.9633\n"
          ]
        }
      ]
    },
    {
      "cell_type": "code",
      "source": [
        "h2 = model2.fit(X, y, epochs=30)"
      ],
      "metadata": {
        "colab": {
          "base_uri": "https://localhost:8080/"
        },
        "id": "j5K2yVNEbteF",
        "outputId": "a8f43b4d-9dc0-4cf7-acc1-e3c26bbb202b"
      },
      "execution_count": 32,
      "outputs": [
        {
          "output_type": "stream",
          "name": "stdout",
          "text": [
            "Epoch 1/30\n",
            "10/10 [==============================] - 0s 2ms/step - loss: 0.1174 - accuracy: 0.9633\n",
            "Epoch 2/30\n",
            "10/10 [==============================] - 0s 2ms/step - loss: 0.1127 - accuracy: 0.9700\n",
            "Epoch 3/30\n",
            "10/10 [==============================] - 0s 2ms/step - loss: 0.1078 - accuracy: 0.9767\n",
            "Epoch 4/30\n",
            "10/10 [==============================] - 0s 2ms/step - loss: 0.1040 - accuracy: 0.9767\n",
            "Epoch 5/30\n",
            "10/10 [==============================] - 0s 2ms/step - loss: 0.1008 - accuracy: 0.9733\n",
            "Epoch 6/30\n",
            "10/10 [==============================] - 0s 2ms/step - loss: 0.0975 - accuracy: 0.9733\n",
            "Epoch 7/30\n",
            "10/10 [==============================] - 0s 3ms/step - loss: 0.0949 - accuracy: 0.9767\n",
            "Epoch 8/30\n",
            "10/10 [==============================] - 0s 3ms/step - loss: 0.0925 - accuracy: 0.9767\n",
            "Epoch 9/30\n",
            "10/10 [==============================] - 0s 3ms/step - loss: 0.0904 - accuracy: 0.9800\n",
            "Epoch 10/30\n",
            "10/10 [==============================] - 0s 2ms/step - loss: 0.0881 - accuracy: 0.9800\n",
            "Epoch 11/30\n",
            "10/10 [==============================] - 0s 2ms/step - loss: 0.0862 - accuracy: 0.9767\n",
            "Epoch 12/30\n",
            "10/10 [==============================] - 0s 2ms/step - loss: 0.0844 - accuracy: 0.9800\n",
            "Epoch 13/30\n",
            "10/10 [==============================] - 0s 2ms/step - loss: 0.0830 - accuracy: 0.9800\n",
            "Epoch 14/30\n",
            "10/10 [==============================] - 0s 2ms/step - loss: 0.0819 - accuracy: 0.9833\n",
            "Epoch 15/30\n",
            "10/10 [==============================] - 0s 2ms/step - loss: 0.0796 - accuracy: 0.9833\n",
            "Epoch 16/30\n",
            "10/10 [==============================] - 0s 2ms/step - loss: 0.0789 - accuracy: 0.9833\n",
            "Epoch 17/30\n",
            "10/10 [==============================] - 0s 2ms/step - loss: 0.0765 - accuracy: 0.9867\n",
            "Epoch 18/30\n",
            "10/10 [==============================] - 0s 2ms/step - loss: 0.0750 - accuracy: 0.9867\n",
            "Epoch 19/30\n",
            "10/10 [==============================] - 0s 2ms/step - loss: 0.0738 - accuracy: 0.9833\n",
            "Epoch 20/30\n",
            "10/10 [==============================] - 0s 2ms/step - loss: 0.0720 - accuracy: 0.9833\n",
            "Epoch 21/30\n",
            "10/10 [==============================] - 0s 2ms/step - loss: 0.0709 - accuracy: 0.9833\n",
            "Epoch 22/30\n",
            "10/10 [==============================] - 0s 3ms/step - loss: 0.0698 - accuracy: 0.9833\n",
            "Epoch 23/30\n",
            "10/10 [==============================] - 0s 2ms/step - loss: 0.0677 - accuracy: 0.9867\n",
            "Epoch 24/30\n",
            "10/10 [==============================] - 0s 2ms/step - loss: 0.0666 - accuracy: 0.9800\n",
            "Epoch 25/30\n",
            "10/10 [==============================] - 0s 2ms/step - loss: 0.0653 - accuracy: 0.9867\n",
            "Epoch 26/30\n",
            "10/10 [==============================] - 0s 2ms/step - loss: 0.0647 - accuracy: 0.9900\n",
            "Epoch 27/30\n",
            "10/10 [==============================] - 0s 3ms/step - loss: 0.0630 - accuracy: 0.9900\n",
            "Epoch 28/30\n",
            "10/10 [==============================] - 0s 2ms/step - loss: 0.0621 - accuracy: 0.9867\n",
            "Epoch 29/30\n",
            "10/10 [==============================] - 0s 2ms/step - loss: 0.0608 - accuracy: 0.9867\n",
            "Epoch 30/30\n",
            "10/10 [==============================] - 0s 2ms/step - loss: 0.0601 - accuracy: 0.9867\n"
          ]
        }
      ]
    },
    {
      "cell_type": "markdown",
      "metadata": {
        "id": "xn2TsE76w5y8"
      },
      "source": [
        "### Analyze and Compare\n",
        "\n",
        "코드를 시작하기 전에 추가 라이브러리를 설치해야 합니다. 스프린트 과제에 사용 중인 환경에 패키지 `mlxtend`를 설치합니다. 설치코드를 직접 제작해보세요. 기존 자료들을 참고하면 쉽게 설치할 수 있을 것입니다. "
      ]
    },
    {
      "cell_type": "markdown",
      "source": [
        "#### 아래 실행 버튼을 눌러 셀을 실행시킨 뒤, 진행해주세요."
      ],
      "metadata": {
        "id": "w94sdYZ9Ja7d"
      }
    },
    {
      "cell_type": "code",
      "execution_count": 18,
      "metadata": {
        "colab": {
          "base_uri": "https://localhost:8080/"
        },
        "id": "96hsbGktVlgL",
        "outputId": "3bc843bc-25f5-4a10-caff-1f15bd7be278"
      },
      "outputs": [
        {
          "output_type": "stream",
          "name": "stdout",
          "text": [
            "Looking in indexes: https://pypi.org/simple, https://us-python.pkg.dev/colab-wheels/public/simple/\n",
            "Requirement already satisfied: mlxtend in /usr/local/lib/python3.8/dist-packages (0.14.0)\n",
            "Requirement already satisfied: pandas>=0.17.1 in /usr/local/lib/python3.8/dist-packages (from mlxtend) (1.3.5)\n",
            "Requirement already satisfied: setuptools in /usr/local/lib/python3.8/dist-packages (from mlxtend) (57.4.0)\n",
            "Requirement already satisfied: scipy>=0.17 in /usr/local/lib/python3.8/dist-packages (from mlxtend) (1.7.3)\n",
            "Requirement already satisfied: scikit-learn>=0.18 in /usr/local/lib/python3.8/dist-packages (from mlxtend) (1.0.2)\n",
            "Requirement already satisfied: matplotlib>=1.5.1 in /usr/local/lib/python3.8/dist-packages (from mlxtend) (3.2.2)\n",
            "Requirement already satisfied: numpy>=1.10.4 in /usr/local/lib/python3.8/dist-packages (from mlxtend) (1.21.6)\n",
            "Requirement already satisfied: cycler>=0.10 in /usr/local/lib/python3.8/dist-packages (from matplotlib>=1.5.1->mlxtend) (0.11.0)\n",
            "Requirement already satisfied: pyparsing!=2.0.4,!=2.1.2,!=2.1.6,>=2.0.1 in /usr/local/lib/python3.8/dist-packages (from matplotlib>=1.5.1->mlxtend) (3.0.9)\n",
            "Requirement already satisfied: python-dateutil>=2.1 in /usr/local/lib/python3.8/dist-packages (from matplotlib>=1.5.1->mlxtend) (2.8.2)\n",
            "Requirement already satisfied: kiwisolver>=1.0.1 in /usr/local/lib/python3.8/dist-packages (from matplotlib>=1.5.1->mlxtend) (1.4.4)\n",
            "Requirement already satisfied: pytz>=2017.3 in /usr/local/lib/python3.8/dist-packages (from pandas>=0.17.1->mlxtend) (2022.7)\n",
            "Requirement already satisfied: joblib>=0.11 in /usr/local/lib/python3.8/dist-packages (from scikit-learn>=0.18->mlxtend) (1.2.0)\n",
            "Requirement already satisfied: threadpoolctl>=2.0.0 in /usr/local/lib/python3.8/dist-packages (from scikit-learn>=0.18->mlxtend) (3.1.0)\n",
            "Requirement already satisfied: six>=1.5 in /usr/local/lib/python3.8/dist-packages (from python-dateutil>=2.1->matplotlib>=1.5.1->mlxtend) (1.15.0)\n"
          ]
        }
      ],
      "source": [
        "# mlxtend 라이브러리를 설치합니다\n",
        "!pip install mlxtend"
      ]
    },
    {
      "cell_type": "code",
      "source": [
        "#이 셀의 코드는 변경하지 마세요.\n",
        "from itertools import cycle\n",
        "from math import ceil, floor\n",
        "\n",
        "import matplotlib.pyplot as plt\n",
        "import numpy as np\n",
        "\n",
        "from mlxtend.utils import check_Xy, format_kwarg_dictionaries\n",
        "\n",
        "\n",
        "def get_feature_range_mask(X, filler_feature_values=None, filler_feature_ranges=None):\n",
        "    \"\"\"\n",
        "    Function that constucts a boolean array to get rid of samples\n",
        "    in X that are outside the feature range specified by filler_feature_values\n",
        "    and filler_feature_ranges\n",
        "    \"\"\"\n",
        "\n",
        "    if not isinstance(X, np.ndarray) or not len(X.shape) == 2:\n",
        "        raise ValueError(\"X must be a 2D array\")\n",
        "    elif filler_feature_values is None:\n",
        "        raise ValueError(\"filler_feature_values must not be None\")\n",
        "    elif filler_feature_ranges is None:\n",
        "        raise ValueError(\"filler_feature_ranges must not be None\")\n",
        "\n",
        "    mask = np.ones(X.shape[0], dtype=bool)\n",
        "    for feature_idx in filler_feature_ranges:\n",
        "        feature_value = filler_feature_values[feature_idx]\n",
        "        feature_width = filler_feature_ranges[feature_idx]\n",
        "        upp_limit = feature_value + feature_width\n",
        "        low_limit = feature_value - feature_width\n",
        "        feature_mask = (X[:, feature_idx] > low_limit) & (X[:, feature_idx] < upp_limit)\n",
        "        mask = mask & feature_mask\n",
        "\n",
        "    return mask\n",
        "\n",
        "\n",
        "def plot_decision_regions(\n",
        "    X,\n",
        "    y,\n",
        "    clf,\n",
        "    feature_index=None,\n",
        "    filler_feature_values=None,\n",
        "    filler_feature_ranges=None,\n",
        "    ax=None,\n",
        "    X_highlight=None,\n",
        "    zoom_factor=1.0,\n",
        "    legend=1,\n",
        "    hide_spines=True,\n",
        "    markers=\"s^oxv<>\",\n",
        "    colors=(\n",
        "        \"#1f77b4,#ff7f0e,#3ca02c,#d62728,\"\n",
        "        \"#9467bd,#8c564b,#e377c2,\"\n",
        "        \"#7f7f7f,#bcbd22,#17becf\"\n",
        "    ),\n",
        "    scatter_kwargs=None,\n",
        "    contourf_kwargs=None,\n",
        "    contour_kwargs=None,\n",
        "    scatter_highlight_kwargs=None,\n",
        "):\n",
        "    \"\"\"Plot decision regions of a classifier.\n",
        "    Please note that this functions assumes that class labels are\n",
        "    labeled consecutively, e.g,. 0, 1, 2, 3, 4, and 5. If you have class\n",
        "    labels with integer labels > 4, you may want to provide additional colors\n",
        "    and/or markers as `colors` and `markers` arguments.\n",
        "    See http://matplotlib.org/examples/color/named_colors.html for more\n",
        "    information.\n",
        "    Parameters\n",
        "    ----------\n",
        "    X : array-like, shape = [n_samples, n_features]\n",
        "        Feature Matrix.\n",
        "    y : array-like, shape = [n_samples]\n",
        "        True class labels.\n",
        "    clf : Classifier object.\n",
        "        Must have a .predict method.\n",
        "    feature_index : array-like (default: (0,) for 1D, (0, 1) otherwise)\n",
        "        Feature indices to use for plotting. The first index in\n",
        "        `feature_index` will be on the x-axis, the second index will be\n",
        "        on the y-axis.\n",
        "    filler_feature_values : dict (default: None)\n",
        "        Only needed for number features > 2. Dictionary of feature\n",
        "        index-value pairs for the features not being plotted.\n",
        "    filler_feature_ranges : dict (default: None)\n",
        "        Only needed for number features > 2. Dictionary of feature\n",
        "        index-value pairs for the features not being plotted. Will use the\n",
        "        ranges provided to select training samples for plotting.\n",
        "    ax : matplotlib.axes.Axes (default: None)\n",
        "        An existing matplotlib Axes. Creates\n",
        "        one if ax=None.\n",
        "    X_highlight : array-like, shape = [n_samples, n_features] (default: None)\n",
        "        An array with data points that are used to highlight samples in `X`.\n",
        "    zoom_factor : float (default: 1.0)\n",
        "        Controls the scale of the x- and y-axis of the decision plot.\n",
        "    hide_spines : bool (default: True)\n",
        "        Hide axis spines if True.\n",
        "    legend : int (default: 1)\n",
        "        Integer to specify the legend location.\n",
        "        No legend if legend is 0.\n",
        "    markers : str (default: 's^oxv<>')\n",
        "        Scatterplot markers.\n",
        "    colors : str (default: 'red,blue,limegreen,gray,cyan')\n",
        "        Comma separated list of colors.\n",
        "    scatter_kwargs : dict (default: None)\n",
        "        Keyword arguments for underlying matplotlib scatter function.\n",
        "    contourf_kwargs : dict (default: None)\n",
        "        Keyword arguments for underlying matplotlib contourf function.\n",
        "    contour_kwargs : dict (default: None)\n",
        "        Keyword arguments for underlying matplotlib contour function\n",
        "        (which draws the lines between decision regions).\n",
        "    scatter_highlight_kwargs : dict (default: None)\n",
        "        Keyword arguments for underlying matplotlib scatter function.\n",
        "    Returns\n",
        "    ---------\n",
        "    ax : matplotlib.axes.Axes object\n",
        "    Examples\n",
        "    -----------\n",
        "    For usage examples, please see\n",
        "    http://rasbt.github.io/mlxtend/user_guide/plotting/plot_decision_regions/\n",
        "    \"\"\"\n",
        "\n",
        "    check_Xy(X, y, y_int=True)  # Validate X and y arrays\n",
        "    dim = X.shape[1]\n",
        "\n",
        "    if ax is None:\n",
        "        ax = plt.gca()\n",
        "\n",
        "    plot_testdata = True\n",
        "    if not isinstance(X_highlight, np.ndarray):\n",
        "        if X_highlight is not None:\n",
        "            raise ValueError(\"X_highlight must be a NumPy array or None\")\n",
        "        else:\n",
        "            plot_testdata = False\n",
        "    elif len(X_highlight.shape) < 2:\n",
        "        raise ValueError(\"X_highlight must be a 2D array\")\n",
        "\n",
        "    if feature_index is not None:\n",
        "        # Unpack and validate the feature_index values\n",
        "        if dim == 1:\n",
        "            raise ValueError(\"feature_index requires more than one training feature\")\n",
        "        try:\n",
        "            x_index, y_index = feature_index\n",
        "        except ValueError:\n",
        "            raise ValueError(\n",
        "                \"Unable to unpack feature_index. Make sure feature_index \"\n",
        "                \"only has two dimensions.\"\n",
        "            )\n",
        "        try:\n",
        "            X[:, x_index], X[:, y_index]\n",
        "        except IndexError:\n",
        "            raise IndexError(\n",
        "                \"feature_index values out of range. X.shape is {}, but \"\n",
        "                \"feature_index is {}\".format(X.shape, feature_index)\n",
        "            )\n",
        "    else:\n",
        "        feature_index = (0, 1)\n",
        "        x_index, y_index = feature_index\n",
        "\n",
        "    # Extra input validation for higher number of training features\n",
        "    if dim > 2:\n",
        "        if filler_feature_values is None:\n",
        "            raise ValueError(\n",
        "                \"Filler values must be provided when \"\n",
        "                \"X has more than 2 training features.\"\n",
        "            )\n",
        "\n",
        "        if filler_feature_ranges is not None:\n",
        "            if not set(filler_feature_values) == set(filler_feature_ranges):\n",
        "                raise ValueError(\n",
        "                    \"filler_feature_values and filler_feature_ranges must \"\n",
        "                    \"have the same keys\"\n",
        "                )\n",
        "\n",
        "        # Check that all columns in X are accounted for\n",
        "        column_check = np.zeros(dim, dtype=bool)\n",
        "        for idx in filler_feature_values:\n",
        "            column_check[idx] = True\n",
        "        for idx in feature_index:\n",
        "            column_check[idx] = True\n",
        "        if not all(column_check):\n",
        "            missing_cols = np.argwhere(~column_check).flatten()\n",
        "            raise ValueError(\n",
        "                \"Column(s) {} need to be accounted for in either \"\n",
        "                \"feature_index or filler_feature_values\".format(missing_cols)\n",
        "            )\n",
        "\n",
        "    marker_gen = cycle(list(markers))\n",
        "\n",
        "    n_classes = np.unique(y).shape[0]\n",
        "    colors = colors.split(\",\")\n",
        "    colors_gen = cycle(colors)\n",
        "    colors = [next(colors_gen) for c in range(n_classes)]\n",
        "\n",
        "    # Get minimum and maximum\n",
        "    x_min, x_max = (\n",
        "        X[:, x_index].min() - 1.0 / zoom_factor,\n",
        "        X[:, x_index].max() + 1.0 / zoom_factor,\n",
        "    )\n",
        "    if dim == 1:\n",
        "        y_min, y_max = -1, 1\n",
        "    else:\n",
        "        y_min, y_max = (\n",
        "            X[:, y_index].min() - 1.0 / zoom_factor,\n",
        "            X[:, y_index].max() + 1.0 / zoom_factor,\n",
        "        )\n",
        "\n",
        "    xnum, ynum = plt.gcf().dpi * plt.gcf().get_size_inches()\n",
        "    xnum, ynum = floor(xnum), ceil(ynum)\n",
        "    xx, yy = np.meshgrid(\n",
        "        np.linspace(x_min, x_max, num=xnum), np.linspace(y_min, y_max, num=ynum)\n",
        "    )\n",
        "\n",
        "    if dim == 1:\n",
        "        X_predict = np.array([xx.ravel()]).T\n",
        "    else:\n",
        "        X_grid = np.array([xx.ravel(), yy.ravel()]).T\n",
        "        X_predict = np.zeros((X_grid.shape[0], dim))\n",
        "        X_predict[:, x_index] = X_grid[:, 0]\n",
        "        X_predict[:, y_index] = X_grid[:, 1]\n",
        "        if dim > 2:\n",
        "            for feature_idx in filler_feature_values:\n",
        "                X_predict[:, feature_idx] = filler_feature_values[feature_idx]\n",
        "    Z = clf.predict(X_predict.astype(X.dtype))\n",
        "    if Z.shape[1] == 2:\n",
        "        Z = Z[:,1]\n",
        "    Z = Z.reshape(xx.shape)\n",
        "    # Plot decisoin region\n",
        "    # Make sure contourf_kwargs has backwards compatible defaults\n",
        "    contourf_kwargs_default = {\"alpha\": 0.45, \"antialiased\": True}\n",
        "    contourf_kwargs = format_kwarg_dictionaries(\n",
        "        default_kwargs=contourf_kwargs_default,\n",
        "        user_kwargs=contourf_kwargs,\n",
        "        protected_keys=[\"colors\", \"levels\"],\n",
        "    )\n",
        "    cset = ax.contourf(\n",
        "        xx, yy, Z, colors=colors, levels=np.arange(Z.max() + 2) - 0.5, **contourf_kwargs\n",
        "    )\n",
        "\n",
        "    contour_kwargs_default = {\"linewidths\": 0.5, \"colors\": \"k\", \"antialiased\": True}\n",
        "    contour_kwargs = format_kwarg_dictionaries(\n",
        "        default_kwargs=contour_kwargs_default,\n",
        "        user_kwargs=contour_kwargs,\n",
        "        protected_keys=[],\n",
        "    )\n",
        "    ax.contour(xx, yy, Z, cset.levels, **contour_kwargs)\n",
        "\n",
        "    ax.axis([xx.min(), xx.max(), yy.min(), yy.max()])\n",
        "\n",
        "    # Scatter training data samples\n",
        "    # Make sure scatter_kwargs has backwards compatible defaults\n",
        "    scatter_kwargs_default = {\"alpha\": 0.8, \"edgecolor\": \"black\"}\n",
        "    scatter_kwargs = format_kwarg_dictionaries(\n",
        "        default_kwargs=scatter_kwargs_default,\n",
        "        user_kwargs=scatter_kwargs,\n",
        "        protected_keys=[\"c\", \"marker\", \"label\"],\n",
        "    )\n",
        "    for idx, c in enumerate(np.unique(y)):\n",
        "        if dim == 1:\n",
        "            y_data = [0 for i in X[y == c]]\n",
        "            x_data = X[y == c]\n",
        "        elif dim == 2:\n",
        "            y_data = X[y == c, y_index]\n",
        "            x_data = X[y == c, x_index]\n",
        "        elif dim > 2 and filler_feature_ranges is not None:\n",
        "            class_mask = y == c\n",
        "            feature_range_mask = get_feature_range_mask(\n",
        "                X,\n",
        "                filler_feature_values=filler_feature_values,\n",
        "                filler_feature_ranges=filler_feature_ranges,\n",
        "            )\n",
        "            y_data = X[class_mask & feature_range_mask, y_index]\n",
        "            x_data = X[class_mask & feature_range_mask, x_index]\n",
        "        else:\n",
        "            continue\n",
        "\n",
        "        ax.scatter(\n",
        "            x=x_data,\n",
        "            y=y_data,\n",
        "            c=colors[idx],\n",
        "            marker=next(marker_gen),\n",
        "            label=c,\n",
        "            **scatter_kwargs\n",
        "        )\n",
        "\n",
        "    if hide_spines:\n",
        "        ax.spines[\"right\"].set_visible(False)\n",
        "        ax.spines[\"top\"].set_visible(False)\n",
        "        ax.spines[\"left\"].set_visible(False)\n",
        "        ax.spines[\"bottom\"].set_visible(False)\n",
        "    ax.yaxis.set_ticks_position(\"left\")\n",
        "    ax.xaxis.set_ticks_position(\"bottom\")\n",
        "    if dim == 1:\n",
        "        ax.axes.get_yaxis().set_ticks([])\n",
        "\n",
        "    if plot_testdata:\n",
        "        if dim == 1:\n",
        "            x_data = X_highlight\n",
        "            y_data = [0 for i in X_highlight]\n",
        "        elif dim == 2:\n",
        "            x_data = X_highlight[:, x_index]\n",
        "            y_data = X_highlight[:, y_index]\n",
        "        else:\n",
        "            feature_range_mask = get_feature_range_mask(\n",
        "                X_highlight,\n",
        "                filler_feature_values=filler_feature_values,\n",
        "                filler_feature_ranges=filler_feature_ranges,\n",
        "            )\n",
        "            y_data = X_highlight[feature_range_mask, y_index]\n",
        "            x_data = X_highlight[feature_range_mask, x_index]\n",
        "\n",
        "        # Make sure scatter_highlight_kwargs backwards compatible defaults\n",
        "        scatter_highlight_defaults = {\n",
        "            \"c\": \"none\",\n",
        "            \"edgecolor\": \"black\",\n",
        "            \"alpha\": 1.0,\n",
        "            \"linewidths\": 1,\n",
        "            \"marker\": \"o\",\n",
        "            \"s\": 80,\n",
        "        }\n",
        "        scatter_highlight_kwargs = format_kwarg_dictionaries(\n",
        "            default_kwargs=scatter_highlight_defaults,\n",
        "            user_kwargs=scatter_highlight_kwargs,\n",
        "        )\n",
        "        ax.scatter(x_data, y_data, **scatter_highlight_kwargs)\n",
        "\n",
        "    if legend:\n",
        "        if dim > 2 and filler_feature_ranges is None:\n",
        "            pass\n",
        "        else:\n",
        "            handles, labels = ax.get_legend_handles_labels()\n",
        "            ax.legend(handles, labels, framealpha=0.3, scatterpoints=1, loc=legend)\n",
        "\n",
        "    return ax"
      ],
      "metadata": {
        "id": "AAlkHWLKF2UW"
      },
      "execution_count": 20,
      "outputs": []
    },
    {
      "cell_type": "markdown",
      "source": [
        "#### 아래 셀은 모형의 의사결정 경계도(\"model1\" 및 \"model2\")를 생성합니다. 그림을 검토합니다."
      ],
      "metadata": {
        "id": "Z4k_SfKiJHTp"
      }
    },
    {
      "cell_type": "code",
      "execution_count": 33,
      "metadata": {
        "colab": {
          "base_uri": "https://localhost:8080/",
          "height": 427
        },
        "id": "ox13rgjTw5y8",
        "outputId": "e237f079-f6fe-4e0d-ecc4-6ee0a261ca87"
      },
      "outputs": [
        {
          "output_type": "stream",
          "name": "stdout",
          "text": [
            "11664/11664 [==============================] - 13s 1ms/step\n",
            "11664/11664 [==============================] - 17s 1ms/step\n"
          ]
        },
        {
          "output_type": "display_data",
          "data": {
            "text/plain": [
              "<Figure size 864x432 with 2 Axes>"
            ],
            "image/png": "[encoded data removed]"
          },
          "metadata": {
            "needs_background": "light"
          }
        }
      ],
      "source": [
        "# 이 셀의 코드는 변경하지 마세요\n",
        "\n",
        "h = .02  # step size in the mesh\n",
        "\n",
        "# create a mesh to plot in\n",
        "x_min, x_max = X[:, 0].min() - .2, X[:, 0].max() + .2\n",
        "y_min, y_max = X[:, 1].min() - .2, X[:, 1].max() + .2\n",
        "xx, yy = np.meshgrid(np.arange(x_min, x_max, h),\n",
        "                     np.arange(y_min, y_max, h))\n",
        "\n",
        "fig = plt.figure(figsize=(12,6))\n",
        "\n",
        "\n",
        "for clf, hist, name, grd in zip([model1,model2], [h1, h2],['Perceptron', 'Multi-Layer Perceptron'],[1,2]):\n",
        "\n",
        "    ax = plt.subplot(1,2, grd)\n",
        "    fig = plot_decision_regions(X=X, y=y, clf=clf, legend=2)\n",
        "    title = f\"{name} with {hist.history['accuracy'][-1]:,.2f} Accuracy\"\n",
        "    plt.title(title)\n",
        "\n",
        "plt.show()"
      ]
    },
    {
      "cell_type": "markdown",
      "metadata": {
        "id": "4qBWszwMw5y8"
      },
      "source": [
        "#### 대부분의 Perceptron(\"model1\")의 정확도가 50-70% 정도로 나오실 것인데요, 왜 그것밖에 되지 않을까요? <br> 데이터 X와 레이블 y의 관계를 보다 정확하게 학습할 수 있는 다층 퍼셉트론의 구조적인 특징은 무엇일까요? (설명을 하실 때 우리가 배웠었던 특징 추출의 관점에서 설명을 해보시길 바랍니다.)"
      ]
    },
    {
      "cell_type": "code",
      "execution_count": null,
      "metadata": {
        "id": "d9-bIuHnw5y8"
      },
      "outputs": [],
      "source": [
        "#@markdown - 모델1은 하나의 직선으로 데이터의 라벨을 결정하는데 XOR 데이터 특성상 하나의 직선으로 아무리 잘 나눠봤자 50%내외의 정확도를 보인다.\n",
        "#@markdown - 다층 퍼셉트론은 라벨까지 이르는 경로를 여러 개로 나눌 수 있게 해준다. 데이터의 특징을 더 세분화 할 수 있음."
      ]
    },
    {
      "cell_type": "markdown",
      "metadata": {
        "id": "FYEPmr-_w5y8"
      },
      "source": [
        "## 3. Keras MLP 튜닝\n",
        "\n",
        "이번에는 Keras 라이브러리를 사용하여 선택한 MultiLayer Perceptron(MLP) 아키텍처를 구현해보겠습니다. 극히 단순한 모델부터 복잡한 모델까지 만들어 보실 수 있습니다. 모델을 학습하고 정확도를 구해보세요. \n",
        "<br> 그런 다음 최소 <b>두 개</b>의 파라미터를 튜닝한 후에 다시 모형의 정확도를 구해보고 이전 모델과 비교해보세요. \n",
        "<br> 아래 Cell에서 심장병 데이터 세트를 불러 온 후 이진 분류 모델 (binary classification model) 을 만들어 보세요. 이진 분류 작업에 적절한 손실 함수를 사용하고, 신경망의 마지막 계층에서 적절한 출력값과 활성화 함수를 사용합니다. \n",
        "<br> 세부적인 출력을 사용하여 빠르게 수렴할 수 있도록 모델을 학습해보는 것도 중요합니다. GridSearchCV 또는 RandomSearchCV를 사용하여 모델을 하이퍼 파라미터들을 튜닝해봅니다. (최소 두 개의 하이퍼 파라미터를 튜닝해봅니다) 하이퍼 파라미터 튜닝 시 새로운 각 실험에 대해 코드 셀을 추가하여 작업하는 방법을 배워보았는데, 그대로 이용하지 말고 변형을 해서 보여주고 싶은 내용을 정리해서 보여주세요.  \n",
        "<br> 테스트할 때 하이퍼 파라미터의 각 조합에 대한 정확도를 보고하여 가장 높은 정확도를 얻을 수 있는 결과를 쉽게 확인할 수 있도록 합니다. \n",
        "<br> 이 SC에서 **3점**을 얻으려면 **최소 3개의 파라미터**를 조정해야 합니다.\n",
        "\n",
        "- BatchNormalization을 레이어에 추가하면 성능이 많이 오를 수 있습니다. \n",
        "- 하지만 BatchNormalization을 사용하기 위해서는 Batch_size 옵션을 추가해야 합니다."
      ]
    },
    {
      "cell_type": "code",
      "execution_count": 22,
      "metadata": {
        "colab": {
          "base_uri": "https://localhost:8080/",
          "height": 225
        },
        "id": "F35sgQ7Cw5y8",
        "inputHidden": false,
        "jupyter": {
          "outputs_hidden": false
        },
        "outputHidden": false,
        "outputId": "7ef74c69-c5a7-47b9-f6b4-574c3399fa6b"
      },
      "outputs": [
        {
          "output_type": "stream",
          "name": "stdout",
          "text": [
            "(303, 14)\n"
          ]
        },
        {
          "output_type": "execute_result",
          "data": {
            "text/plain": [
              "     age  sex  cp  trestbps  chol  fbs  restecg  thalach  exang  oldpeak  \\\n",
              "242   64    1   0       145   212    0        0      132      0      2.0   \n",
              "187   54    1   0       124   266    0        0      109      1      2.2   \n",
              "150   66    1   0       160   228    0        0      138      0      2.3   \n",
              "286   59    1   3       134   204    0        1      162      0      0.8   \n",
              "299   45    1   3       110   264    0        1      132      0      1.2   \n",
              "\n",
              "     slope  ca  thal  target  \n",
              "242      1   2     1       0  \n",
              "187      1   1     3       0  \n",
              "150      2   0     1       1  \n",
              "286      2   2     2       0  \n",
              "299      1   0     3       0  "
            ],
            "text/html": [
              "\n",
              "  <div id=\"df-8d59d4a3-9d96-4bf7-ac9b-99c5a267d86d\">\n",
              "    <div class=\"colab-df-container\">\n",
              "      <div>\n",
              "<style scoped>\n",
              "    .dataframe tbody tr th:only-of-type {\n",
              "        vertical-align: middle;\n",
              "    }\n",
              "\n",
              "    .dataframe tbody tr th {\n",
              "        vertical-align: top;\n",
              "    }\n",
              "\n",
              "    .dataframe thead th {\n",
              "        text-align: right;\n",
              "    }\n",
              "</style>\n",
              "<table border=\"1\" class=\"dataframe\">\n",
              "  <thead>\n",
              "    <tr style=\"text-align: right;\">\n",
              "      <th></th>\n",
              "      <th>age</th>\n",
              "      <th>sex</th>\n",
              "      <th>cp</th>\n",
              "      <th>trestbps</th>\n",
              "      <th>chol</th>\n",
              "      <th>fbs</th>\n",
              "      <th>restecg</th>\n",
              "      <th>thalach</th>\n",
              "      <th>exang</th>\n",
              "      <th>oldpeak</th>\n",
              "      <th>slope</th>\n",
              "      <th>ca</th>\n",
              "      <th>thal</th>\n",
              "      <th>target</th>\n",
              "    </tr>\n",
              "  </thead>\n",
              "  <tbody>\n",
              "    <tr>\n",
              "      <th>242</th>\n",
              "      <td>64</td>\n",
              "      <td>1</td>\n",
              "      <td>0</td>\n",
              "      <td>145</td>\n",
              "      <td>212</td>\n",
              "      <td>0</td>\n",
              "      <td>0</td>\n",
              "      <td>132</td>\n",
              "      <td>0</td>\n",
              "      <td>2.0</td>\n",
              "      <td>1</td>\n",
              "      <td>2</td>\n",
              "      <td>1</td>\n",
              "      <td>0</td>\n",
              "    </tr>\n",
              "    <tr>\n",
              "      <th>187</th>\n",
              "      <td>54</td>\n",
              "      <td>1</td>\n",
              "      <td>0</td>\n",
              "      <td>124</td>\n",
              "      <td>266</td>\n",
              "      <td>0</td>\n",
              "      <td>0</td>\n",
              "      <td>109</td>\n",
              "      <td>1</td>\n",
              "      <td>2.2</td>\n",
              "      <td>1</td>\n",
              "      <td>1</td>\n",
              "      <td>3</td>\n",
              "      <td>0</td>\n",
              "    </tr>\n",
              "    <tr>\n",
              "      <th>150</th>\n",
              "      <td>66</td>\n",
              "      <td>1</td>\n",
              "      <td>0</td>\n",
              "      <td>160</td>\n",
              "      <td>228</td>\n",
              "      <td>0</td>\n",
              "      <td>0</td>\n",
              "      <td>138</td>\n",
              "      <td>0</td>\n",
              "      <td>2.3</td>\n",
              "      <td>2</td>\n",
              "      <td>0</td>\n",
              "      <td>1</td>\n",
              "      <td>1</td>\n",
              "    </tr>\n",
              "    <tr>\n",
              "      <th>286</th>\n",
              "      <td>59</td>\n",
              "      <td>1</td>\n",
              "      <td>3</td>\n",
              "      <td>134</td>\n",
              "      <td>204</td>\n",
              "      <td>0</td>\n",
              "      <td>1</td>\n",
              "      <td>162</td>\n",
              "      <td>0</td>\n",
              "      <td>0.8</td>\n",
              "      <td>2</td>\n",
              "      <td>2</td>\n",
              "      <td>2</td>\n",
              "      <td>0</td>\n",
              "    </tr>\n",
              "    <tr>\n",
              "      <th>299</th>\n",
              "      <td>45</td>\n",
              "      <td>1</td>\n",
              "      <td>3</td>\n",
              "      <td>110</td>\n",
              "      <td>264</td>\n",
              "      <td>0</td>\n",
              "      <td>1</td>\n",
              "      <td>132</td>\n",
              "      <td>0</td>\n",
              "      <td>1.2</td>\n",
              "      <td>1</td>\n",
              "      <td>0</td>\n",
              "      <td>3</td>\n",
              "      <td>0</td>\n",
              "    </tr>\n",
              "  </tbody>\n",
              "</table>\n",
              "</div>\n",
              "      <button class=\"colab-df-convert\" onclick=\"convertToInteractive('df-8d59d4a3-9d96-4bf7-ac9b-99c5a267d86d')\"\n",
              "              title=\"Convert this dataframe to an interactive table.\"\n",
              "              style=\"display:none;\">\n",
              "        \n",
              "  <svg xmlns=\"http://www.w3.org/2000/svg\" height=\"24px\"viewBox=\"0 0 24 24\"\n",
              "       width=\"24px\">\n",
              "    <path d=\"M0 0h24v24H0V0z\" fill=\"none\"/>\n",
              "    <path d=\"M18.56 5.44l.94 2.06.94-2.06 2.06-.94-2.06-.94-.94-2.06-.94 2.06-2.06.94zm-11 1L8.5 8.5l.94-2.06 2.06-.94-2.06-.94L8.5 2.5l-.94 2.06-2.06.94zm10 10l.94 2.06.94-2.06 2.06-.94-2.06-.94-.94-2.06-.94 2.06-2.06.94z\"/><path d=\"M17.41 7.96l-1.37-1.37c-.4-.4-.92-.59-1.43-.59-.52 0-1.04.2-1.43.59L10.3 9.45l-7.72 7.72c-.78.78-.78 2.05 0 2.83L4 21.41c.39.39.9.59 1.41.59.51 0 1.02-.2 1.41-.59l7.78-7.78 2.81-2.81c.8-.78.8-2.07 0-2.86zM5.41 20L4 18.59l7.72-7.72 1.47 1.35L5.41 20z\"/>\n",
              "  </svg>\n",
              "      </button>\n",
              "      \n",
              "  <style>\n",
              "    .colab-df-container {\n",
              "      display:flex;\n",
              "      flex-wrap:wrap;\n",
              "      gap: 12px;\n",
              "    }\n",
              "\n",
              "    .colab-df-convert {\n",
              "      background-color: #E8F0FE;\n",
              "      border: none;\n",
              "      border-radius: 50%;\n",
              "      cursor: pointer;\n",
              "      display: none;\n",
              "      fill: #1967D2;\n",
              "      height: 32px;\n",
              "      padding: 0 0 0 0;\n",
              "      width: 32px;\n",
              "    }\n",
              "\n",
              "    .colab-df-convert:hover {\n",
              "      background-color: #E2EBFA;\n",
              "      box-shadow: 0px 1px 2px rgba(60, 64, 67, 0.3), 0px 1px 3px 1px rgba(60, 64, 67, 0.15);\n",
              "      fill: #174EA6;\n",
              "    }\n",
              "\n",
              "    [theme=dark] .colab-df-convert {\n",
              "      background-color: #3B4455;\n",
              "      fill: #D2E3FC;\n",
              "    }\n",
              "\n",
              "    [theme=dark] .colab-df-convert:hover {\n",
              "      background-color: #434B5C;\n",
              "      box-shadow: 0px 1px 3px 1px rgba(0, 0, 0, 0.15);\n",
              "      filter: drop-shadow(0px 1px 2px rgba(0, 0, 0, 0.3));\n",
              "      fill: #FFFFFF;\n",
              "    }\n",
              "  </style>\n",
              "\n",
              "      <script>\n",
              "        const buttonEl =\n",
              "          document.querySelector('#df-8d59d4a3-9d96-4bf7-ac9b-99c5a267d86d button.colab-df-convert');\n",
              "        buttonEl.style.display =\n",
              "          google.colab.kernel.accessAllowed ? 'block' : 'none';\n",
              "\n",
              "        async function convertToInteractive(key) {\n",
              "          const element = document.querySelector('#df-8d59d4a3-9d96-4bf7-ac9b-99c5a267d86d');\n",
              "          const dataTable =\n",
              "            await google.colab.kernel.invokeFunction('convertToInteractive',\n",
              "                                                     [key], {});\n",
              "          if (!dataTable) return;\n",
              "\n",
              "          const docLinkHtml = 'Like what you see? Visit the ' +\n",
              "            '<a target=\"_blank\" href=https://colab.research.google.com/notebooks/data_table.ipynb>data table notebook</a>'\n",
              "            + ' to learn more about interactive tables.';\n",
              "          element.innerHTML = '';\n",
              "          dataTable['output_type'] = 'display_data';\n",
              "          await google.colab.output.renderOutput(dataTable, element);\n",
              "          const docLink = document.createElement('div');\n",
              "          docLink.innerHTML = docLinkHtml;\n",
              "          element.appendChild(docLink);\n",
              "        }\n",
              "      </script>\n",
              "    </div>\n",
              "  </div>\n",
              "  "
            ]
          },
          "metadata": {},
          "execution_count": 22
        }
      ],
      "source": [
        "import pandas as pd\n",
        "from sklearn.preprocessing import StandardScaler\n",
        "\n",
        "df = pd.read_csv('https://ds-lecture-data.s3.ap-northeast-2.amazonaws.com/datasets/heart.csv')\n",
        "df = df.sample(frac=1)\n",
        "print(df.shape)\n",
        "df.head()\n"
      ]
    },
    {
      "cell_type": "code",
      "execution_count": null,
      "metadata": {
        "colab": {
          "base_uri": "https://localhost:8080/"
        },
        "id": "mDeM_1iEw5y9",
        "outputId": "8ab3314a-a819-4266-fb35-79bea646afb9"
      },
      "outputs": [
        {
          "name": "stdout",
          "output_type": "stream",
          "text": [
            "     age  sex  cp  trestbps  chol  ...  exang  oldpeak  slope  ca  thal\n",
            "212   39    1   0       118   219  ...      0      1.2      1   0     3\n",
            "46    44    1   2       140   235  ...      0      0.0      2   0     2\n",
            "217   63    1   0       130   330  ...      1      1.8      2   3     3\n",
            "93    54    0   1       132   288  ...      1      0.0      2   1     2\n",
            "39    65    0   2       160   360  ...      0      0.8      2   0     2\n",
            "\n",
            "[5 rows x 13 columns]\n",
            "212    0\n",
            "46     1\n",
            "217    0\n",
            "93     1\n",
            "39     1\n",
            "Name: target, dtype: int64\n"
          ]
        }
      ],
      "source": [
        "# 이 곳에 답안을 작성하시기 바랍니다"
      ]
    },
    {
      "cell_type": "code",
      "execution_count": null,
      "metadata": {
        "colab": {
          "base_uri": "https://localhost:8080/"
        },
        "id": "xUDHLAhId4W8",
        "outputId": "16c052e3-7507-40ea-df42-e095f5cc364c"
      },
      "outputs": [
        {
          "name": "stdout",
          "output_type": "stream",
          "text": [
            "Epoch 1/200\n",
            "8/8 [==============================] - 0s 18ms/step - loss: 0.4335 - accuracy: 0.7833 - val_loss: 0.2423 - val_accuracy: 0.9667\n",
            "Epoch 2/200\n",
            "8/8 [==============================] - 0s 4ms/step - loss: 0.1616 - accuracy: 0.9583 - val_loss: 0.1773 - val_accuracy: 0.9500\n",
            "Epoch 3/200\n",
            "8/8 [==============================] - 0s 4ms/step - loss: 0.1419 - accuracy: 0.9417 - val_loss: 0.1302 - val_accuracy: 0.9667\n",
            "Epoch 4/200\n",
            "8/8 [==============================] - 0s 4ms/step - loss: 0.1753 - accuracy: 0.9292 - val_loss: 0.1447 - val_accuracy: 0.9167\n",
            "Epoch 5/200\n",
            "8/8 [==============================] - 0s 4ms/step - loss: 0.1736 - accuracy: 0.9208 - val_loss: 0.1426 - val_accuracy: 0.9833\n",
            "Epoch 6/200\n",
            "8/8 [==============================] - 0s 4ms/step - loss: 0.1953 - accuracy: 0.9375 - val_loss: 0.1006 - val_accuracy: 1.0000\n",
            "Epoch 7/200\n",
            "8/8 [==============================] - 0s 4ms/step - loss: 0.1099 - accuracy: 0.9583 - val_loss: 0.1043 - val_accuracy: 0.9667\n",
            "Epoch 8/200\n",
            "8/8 [==============================] - 0s 3ms/step - loss: 0.1404 - accuracy: 0.9542 - val_loss: 0.0910 - val_accuracy: 0.9833\n",
            "Epoch 9/200\n",
            "8/8 [==============================] - 0s 4ms/step - loss: 0.2184 - accuracy: 0.9250 - val_loss: 0.1396 - val_accuracy: 0.9667\n",
            "Epoch 10/200\n",
            "8/8 [==============================] - 0s 4ms/step - loss: 0.0926 - accuracy: 0.9750 - val_loss: 0.1287 - val_accuracy: 0.9833\n",
            "Epoch 11/200\n",
            "8/8 [==============================] - 0s 4ms/step - loss: 0.1615 - accuracy: 0.9292 - val_loss: 0.0836 - val_accuracy: 0.9833\n",
            "Epoch 12/200\n",
            "8/8 [==============================] - 0s 4ms/step - loss: 0.1524 - accuracy: 0.9292 - val_loss: 0.0852 - val_accuracy: 1.0000\n",
            "Epoch 13/200\n",
            "8/8 [==============================] - 0s 4ms/step - loss: 0.1236 - accuracy: 0.9542 - val_loss: 0.0894 - val_accuracy: 0.9833\n",
            "Epoch 14/200\n",
            "8/8 [==============================] - 0s 4ms/step - loss: 0.1270 - accuracy: 0.9542 - val_loss: 0.1026 - val_accuracy: 0.9667\n",
            "Epoch 15/200\n",
            "8/8 [==============================] - 0s 4ms/step - loss: 0.1172 - accuracy: 0.9583 - val_loss: 0.0851 - val_accuracy: 0.9833\n",
            "Epoch 16/200\n",
            "8/8 [==============================] - 0s 3ms/step - loss: 0.1418 - accuracy: 0.9458 - val_loss: 0.0945 - val_accuracy: 0.9667\n",
            "Epoch 17/200\n",
            "8/8 [==============================] - 0s 4ms/step - loss: 0.1451 - accuracy: 0.9542 - val_loss: 0.1055 - val_accuracy: 0.9833\n",
            "Epoch 18/200\n",
            "8/8 [==============================] - 0s 4ms/step - loss: 0.0957 - accuracy: 0.9625 - val_loss: 0.1003 - val_accuracy: 0.9667\n",
            "Epoch 19/200\n",
            "8/8 [==============================] - 0s 4ms/step - loss: 0.1246 - accuracy: 0.9500 - val_loss: 0.0714 - val_accuracy: 1.0000\n",
            "Epoch 20/200\n",
            "8/8 [==============================] - 0s 3ms/step - loss: 0.0918 - accuracy: 0.9500 - val_loss: 0.0796 - val_accuracy: 0.9833\n",
            "Epoch 21/200\n",
            "8/8 [==============================] - 0s 4ms/step - loss: 0.0940 - accuracy: 0.9625 - val_loss: 0.0764 - val_accuracy: 0.9833\n",
            "Epoch 00021: early stopping\n"
          ]
        }
      ],
      "source": []
    }
  ],
  "metadata": {
    "colab": {
      "provenance": [],
      "include_colab_link": true
    },
    "kernelspec": {
      "display_name": "Python 3",
      "language": "python",
      "name": "python3"
    },
    "language_info": {
      "codemirror_mode": {
        "name": "ipython",
        "version": 3
      },
      "file_extension": ".py",
      "mimetype": "text/x-python",
      "name": "python",
      "nbconvert_exporter": "python",
      "pygments_lexer": "ipython3",
      "version": "3.9.4"
    },
    "nteract": {
      "version": "0.23.3"
    }
  },
  "nbformat": 4,
  "nbformat_minor": 0
}